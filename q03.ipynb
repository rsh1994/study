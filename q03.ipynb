{
 "cells": [
  {
   "cell_type": "code",
   "execution_count": 10,
   "metadata": {},
   "outputs": [
    {
     "name": "stdout",
     "output_type": "stream",
     "text": [
      "0000000111111110101000011\n",
      "4\n"
     ]
    }
   ],
   "source": [
    "n = input()\n",
    "\n",
    "result = 0\n",
    "first = n[0]\n",
    "for i in range(1,len(n)):\n",
    "    if first == n[i]: # 첫번째 요소와 같을 때 패스\n",
    "        pass\n",
    "    else: # 첫번째요소와 다를 때\n",
    "        temp = i\n",
    "        if n[temp] == n[temp-1] : # 바로전이랑 똑같으면\n",
    "            pass\n",
    "        else : # 바로전이랑 다르면\n",
    "            result += 1\n",
    "            temp = i\n",
    "        \n",
    "print(result)"
   ]
  },
  {
   "cell_type": "code",
   "execution_count": null,
   "metadata": {},
   "outputs": [],
   "source": []
  }
 ],
 "metadata": {
  "kernelspec": {
   "display_name": "Python 3",
   "language": "python",
   "name": "python3"
  },
  "language_info": {
   "codemirror_mode": {
    "name": "ipython",
    "version": 3
   },
   "file_extension": ".py",
   "mimetype": "text/x-python",
   "name": "python",
   "nbconvert_exporter": "python",
   "pygments_lexer": "ipython3",
   "version": "3.8.3"
  }
 },
 "nbformat": 4,
 "nbformat_minor": 4
}
